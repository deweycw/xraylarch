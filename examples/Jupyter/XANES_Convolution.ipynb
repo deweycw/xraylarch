{
 "cells": [
  {
   "attachments": {},
   "cell_type": "markdown",
   "metadata": {},
   "source": [
    "# Example of XANES convolution\n",
    "\n",
    "- Author: Mauro Rovezzi <mauro.rovezzi@esrf.fr>\n",
    "- Date: 2023-05\n",
    "\n",
    "This notebook shows how to perform an energy-dependent convolution of XANES simulated data with the [FDMNES](https://fdmnes.neel.cnrs.fr/) code."
   ]
  },
  {
   "attachments": {},
   "cell_type": "markdown",
   "metadata": {},
   "source": [
    "We load an example of experimental data from the [SSHADE/FAME database](https://www.sshade.eu/db/fame):\n",
    "\n",
    "- [Zn K-edge XAS spectrum of ZnO](https://doi.org/10.26302/SSHADE/EXPERIMENT_ST_20180418_001)"
   ]
  },
  {
   "cell_type": "code",
   "execution_count": 1,
   "metadata": {},
   "outputs": [],
   "source": [
    "from larch.io import read_ascii\n",
    "from larch.xafs import pre_edge\n",
    "\n",
    "dat = read_ascii(\"../fdmnes/ZnO_SSHADE.data.txt\", labels=(\"energy\", \"mu\"))\n",
    "pre_edge(dat)\n"
   ]
  },
  {
   "attachments": {},
   "cell_type": "markdown",
   "metadata": {},
   "source": [
    "A corresponding XAS simulation of Zn K-edge ZnO wurtzite is performed with FDMNES. We load both the non-convoluted data and the automatically convoluted one by FDMNES in order to compare with the convolution performed in Python here, that is, to show they are equivalent."
   ]
  },
  {
   "cell_type": "code",
   "execution_count": 2,
   "metadata": {},
   "outputs": [],
   "source": [
    "def read_fdmnes(path, labels=None):\n",
    "    g = read_ascii(path, labels=labels)\n",
    "    with open(path) as f:\n",
    "        header = f.readline().split()\n",
    "        g.e_edge = float(header[0])\n",
    "        g.Z = header[1]\n",
    "        g.e_fermi = float(header[6])\n",
    "    return g\n",
    "\n",
    "sim = read_fdmnes(\"../fdmnes/ZnO_FDMNES.txt\", labels=(\"energy\", \"mu\"))\n",
    "sim_conv = read_ascii(\"../fdmnes/ZnO_FDMNES_conv.txt\", labels=(\"energy\", \"mu\"))\n"
   ]
  },
  {
   "attachments": {},
   "cell_type": "markdown",
   "metadata": {},
   "source": [
    "We do a convolution with a Lorentzian kernel. Need to create an array of energy dependent broadening parameters, starting from the XAS core-hole $\\Gamma_{hole}$. *NOTE* all the parameters are described in the FDMNES manual."
   ]
  },
  {
   "cell_type": "code",
   "execution_count": 3,
   "metadata": {},
   "outputs": [],
   "source": [
    "from larch.math.convolution1D import atan_gamma, conv_fast\n",
    "\n",
    "gamma_hole = 1.67 #from tabulated data\n",
    "\n",
    "agammas = atan_gamma(sim.energy, e_cut=sim.e_fermi, gamma_hole=gamma_hole)\n",
    "\n",
    "myconv_a = conv_fast(sim.energy, sim.mu, e_cut=sim.e_fermi, kernel=\"lorentzian\", gammas=agammas)"
   ]
  },
  {
   "attachments": {},
   "cell_type": "markdown",
   "metadata": {},
   "source": [
    "To further simulate the experimental broadening, we may do an additional convolution with a Gaussian kernel"
   ]
  },
  {
   "cell_type": "code",
   "execution_count": 4,
   "metadata": {},
   "outputs": [],
   "source": [
    "from larch.math.convolution1D import lin_gamma\n",
    "\n",
    "lgammas = lin_gamma(sim.energy, gamma_hole=1)\n",
    "\n",
    "myconv_b = conv_fast(sim.energy, myconv_a, e_cut=-10, kernel=\"gaussian\", gammas=lgammas)"
   ]
  },
  {
   "attachments": {},
   "cell_type": "markdown",
   "metadata": {},
   "source": [
    "A simple plot to show that the FDMNES and Larch convoluted spectra are identical (**NOTE**: click on the plot legend to hide/show a curve)"
   ]
  },
  {
   "cell_type": "code",
   "execution_count": 5,
   "metadata": {},
   "outputs": [
    {
     "data": {
      "text/plain": [
       "<larch.plot.plotly_xafsplots.PlotlyFigure at 0x180185550>"
      ]
     },
     "execution_count": 5,
     "metadata": {},
     "output_type": "execute_result"
    }
   ],
   "source": [
    "#TIP: uncomment the following two lines and restart the kernel if the Plotly widget does not show in your Jupyter notebook\n",
    "#import plotly.io as pio\n",
    "#pio.renderers.default = 'iframe'\n",
    "\n",
    "from larch.plot.plotly_xafsplots import PlotlyFigure    \n",
    "import numpy as np\n",
    "\n",
    "ysim = sim_conv.mu / np.trapz(sim_conv.mu, sim_conv.energy)\n",
    "yscale = np.average(ysim[-10:])\n",
    "exp_xshift = -9658\n",
    "\n",
    "fig = PlotlyFigure()\n",
    "\n",
    "fig.add_plot(dat.energy + exp_xshift, dat.norm*yscale, color=\"black\", label=\"exp data\")\n",
    "fig.add_plot(sim_conv.energy, ysim, color=\"green\", label=\"FDMNES convolution\")\n",
    "fig.add_plot(sim.energy, myconv_a / np.trapz(myconv_a, sim.energy), color=\"red\", label=\"Larch convolution\")\n",
    "#fig.add_plot(sim.energy, myconv_b / np.trapz(myconv_b, sim.energy), color=\"blue\", label=\"Larch convolution + Gauss\")\n",
    "fig.set_xrange(-15, 70)\n",
    "\n",
    "fig.set_style(width=900, height=500)\n",
    "fig.show()"
   ]
  },
  {
   "cell_type": "code",
   "execution_count": null,
   "metadata": {},
   "outputs": [],
   "source": []
  },
  {
   "cell_type": "code",
   "execution_count": null,
   "metadata": {},
   "outputs": [],
   "source": []
  }
 ],
 "metadata": {
  "kernelspec": {
   "display_name": "Python 3 (ipykernel)",
   "language": "python",
   "name": "python3"
  },
  "language_info": {
   "codemirror_mode": {
    "name": "ipython",
    "version": 3
   },
   "file_extension": ".py",
   "mimetype": "text/x-python",
   "name": "python",
   "nbconvert_exporter": "python",
   "pygments_lexer": "ipython3",
   "version": "3.13.3"
  }
 },
 "nbformat": 4,
 "nbformat_minor": 4
}

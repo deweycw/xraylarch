{
 "cells": [
  {
   "cell_type": "code",
   "execution_count": 1,
   "id": "59499dc6",
   "metadata": {},
   "outputs": [],
   "source": [
    "import numpy as np\n",
    "import larch\n",
    "from larch.xafs import pre_edge, autobk\n",
    "from larch.io import read_ascii\n",
    "from larch.plot.plotly_xafsplots import plot_mu, plot_bkg\n",
    "\n",
    "cu = read_ascii('../xafsdata/cu_metal_rt.xdi')\n",
    "cu.mu = -np.log(cu.itrans/cu.i0)\n",
    "pre_edge(cu)\n",
    "autobk(cu, rbkg=1, kw=2)"
   ]
  },
  {
   "cell_type": "code",
   "execution_count": 2,
   "id": "c431a710",
   "metadata": {},
   "outputs": [
    {
     "ename": "AttributeError",
     "evalue": "'Figure' object has no attribute 'update_yaxis'",
     "output_type": "error",
     "traceback": [
      "\u001b[31m---------------------------------------------------------------------------\u001b[39m",
      "\u001b[31mAttributeError\u001b[39m                            Traceback (most recent call last)",
      "\u001b[36mCell\u001b[39m\u001b[36m \u001b[39m\u001b[32mIn[2]\u001b[39m\u001b[32m, line 1\u001b[39m\n\u001b[32m----> \u001b[39m\u001b[32m1\u001b[39m fig = \u001b[43mplot_mu\u001b[49m\u001b[43m(\u001b[49m\u001b[43mcu\u001b[49m\u001b[43m,\u001b[49m\u001b[43m \u001b[49m\u001b[43mwith_deriv\u001b[49m\u001b[43m=\u001b[49m\u001b[38;5;28;43;01mTrue\u001b[39;49;00m\u001b[43m,\u001b[49m\u001b[43m \u001b[49m\u001b[43mshow_e0\u001b[49m\u001b[43m=\u001b[49m\u001b[38;5;28;43;01mTrue\u001b[39;49;00m\u001b[43m,\u001b[49m\u001b[43m \u001b[49m\u001b[43memin\u001b[49m\u001b[43m=\u001b[49m\u001b[32;43m8900\u001b[39;49m\u001b[43m,\u001b[49m\u001b[43m \u001b[49m\u001b[43memax\u001b[49m\u001b[43m=\u001b[49m\u001b[32;43m9100\u001b[39;49m\u001b[43m)\u001b[49m\n",
      "\u001b[36mFile \u001b[39m\u001b[32m~/Codes/xraylarch/larch/plot/plotly_xafsplots.py:415\u001b[39m, in \u001b[36mplot_mu\u001b[39m\u001b[34m(dgroup, show_norm, show_flat, show_deriv, show_pre, show_post, show_e0, with_deriv, emin, emax, label, offset, title, fig, show)\u001b[39m\n\u001b[32m    413\u001b[39m \u001b[38;5;28;01mif\u001b[39;00m with_deriv:\n\u001b[32m    414\u001b[39m     fig.add_plot(dgroup.energy, dgroup.dmude+offset, label=\u001b[33mf\u001b[39m\u001b[33m\"\u001b[39m\u001b[38;5;132;01m{\u001b[39;00mylabel\u001b[38;5;132;01m}\u001b[39;00m\u001b[33m (deriv)\u001b[39m\u001b[33m\"\u001b[39m, side=\u001b[33m'\u001b[39m\u001b[33mright\u001b[39m\u001b[33m'\u001b[39m)\n\u001b[32m--> \u001b[39m\u001b[32m415\u001b[39m     \u001b[43mfig\u001b[49m\u001b[43m.\u001b[49m\u001b[43mfig\u001b[49m\u001b[43m.\u001b[49m\u001b[43mupdate_yaxis\u001b[49m(title_text=plotlabels.dmude, secondary_y=\u001b[38;5;28;01mTrue\u001b[39;00m)\n\u001b[32m    416\u001b[39m \u001b[38;5;28;01melse\u001b[39;00m:\n\u001b[32m    417\u001b[39m     \u001b[38;5;28;01mif\u001b[39;00m \u001b[38;5;129;01mnot\u001b[39;00m show_norm \u001b[38;5;129;01mand\u001b[39;00m show_pre:\n",
      "\u001b[31mAttributeError\u001b[39m: 'Figure' object has no attribute 'update_yaxis'"
     ]
    }
   ],
   "source": [
    "fig = plot_mu(cu, with_deriv=True, show_e0=True, emin=8900, emax=9100)"
   ]
  },
  {
   "cell_type": "code",
   "execution_count": null,
   "id": "3c3c1148",
   "metadata": {},
   "outputs": [],
   "source": [
    "fig = plot_bkg(cu, emin=8900, emax=9600)"
   ]
  },
  {
   "cell_type": "code",
   "execution_count": null,
   "id": "8b8cddd7",
   "metadata": {},
   "outputs": [],
   "source": []
  }
 ],
 "metadata": {
  "kernelspec": {
   "display_name": "Python 3 (ipykernel)",
   "language": "python",
   "name": "python3"
  },
  "language_info": {
   "codemirror_mode": {
    "name": "ipython",
    "version": 3
   },
   "file_extension": ".py",
   "mimetype": "text/x-python",
   "name": "python",
   "nbconvert_exporter": "python",
   "pygments_lexer": "ipython3",
   "version": "3.13.3"
  }
 },
 "nbformat": 4,
 "nbformat_minor": 5
}

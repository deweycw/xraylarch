{
 "cells": [
  {
   "cell_type": "markdown",
   "id": "c2e0135b-da8a-42cb-bf44-a7891a5fa7e4",
   "metadata": {},
   "source": [
    "# Mono Calibration and EXAFS Results\n",
    "\n",
    "This notebook explores the effect of energy miscalibration on EXAFS results. Careful energy calibration is needed to compare EXAFS measurements, especially those taken at different instruments or even at different times with the same instrument.\n",
    "\n",
    "EXAFS measurements are typically made using a double-crystal monochromator at a synchrotron beamline.  While other approaches can be used to good quality spectra, the energy calibration methods of other instruments may depend on details of the instruments.  Energy calibration procedures for double-crystal monochromators are pretty uniform, and is the focus of this discussion.   \n",
    "\n",
    "A double-crystal monochromator uses Bragg's Law to relate the monochromator angle $\\theta$ to X-ray energy $E$ with\n",
    "\n",
    "  $\\lambda = \\frac{hc}{E} = 2d\\sin(\\theta) $\n",
    "\n",
    "With $h$ being Planck's constant, $c$ the speed of light, and $d$ the lattice spacing of the monochromator crystal.  With $d$ in Angstroms and $E$ in eV, $hc \\approx 12398.419$ eV A.  The crystal $d$ values for Si, Ge, and C (the most common crystals used) are typically very well known, but there may be thermally induced changes as synchrotron beamlines.  The monochromator usually has a high-quality and well-calibrated (or even encoded) rotation stage, so that the meausure of *relative angle* is assumed to have extremely small errors.  This is not always the case (or wasn't always the case in the past) and effects of run-out and wobble may need to be considered for some cases.  The  crystal is usually cut to a plane of low-order Miller indices with no allowed 2nd harmonic.  The (111), (220), and (311) of silicon and diamond make up the vast majority of monochromator crystals used for EXAFS.  The crystals are mounted to that the face is on the rotation axis to very high precision and the principle and that the rotaion corresponds exactly to $\\theta$, with yaw and roll angles being very small.  With careful mount, the values that control the Energy given by a value $\\theta$ of the rotation axis are: a) the value of $d$, and b) an angular offset $\\theta_0$, where the diffratction planes are parallel to the incident beam.  With a high-quality monochromator as at most synchrotron beamlines, these two values should be sufficient to adjust to calibrate a monochromator. With only two unknowns, it is common to scan across known (or at least reproducible) energies, say the $K$-edges of metal foils, and adjust values of $d$ and/or $\\theta_0$ until the energy for all edges is correct.  \n",
    "\n",
    "Most commonly, the XANES of some metal foil is measured and the maximum of the first derivative is set to the tabulated edge energy for the metal.  This method will give a bit of a variation as the energy resolution changes. These days, most good XAFS beamlines have good energy resolution that this is not much of a problem, but it can be a problem for some older data sets. It should also be said that those tabulated values are not always accurate to better than 1 or 2 eV. In fact, rather than use the tabulated values such as at https://xraydb.xrayabsorption.org/, the values from Kraft et al Review of Scientific Instruments 67, p681 (1996): (https://doi.org/10.1063/1.1146657) should be used, as they were carefully measured with a single, very high-resolution and consistently calibrated monochromator.\n",
    "\n",
    "Ideally, a well-calibrated monochromator would have a single $d$-spacing (and so good thermal stability) and angular offset (and the incident angle of the beam from the source not vary) that stays calibrated across the edges of many edges.  If the energy needs to be recalibrated very frequently or for each edge, then the energy will be drifting between those edges, and the reason for any need to recalibrate should be investigated.  If the beamline is well collimated and the angle of the beam incident on the monochromator is stable, it is certainly possible to have a monochromator set up so that stays calibrated for weeks and over an energy range of 10 keV or more.  This can be more complicated when a collimating (or any other) mirror is placed before the monochromator, as then very high stability of that mirror is also needed.\n",
    "\n",
    "For any XAS analysis, the energy scale is critical. Because of the variations above in calibrating  energy, small energy shifts between beamlines or even runs at the same beamline but different months are not uncommon. If the shift is relatively small, say 1 to 5 eV at 10 keV, simply adding a constant  energy offset is satisfactory.\n",
    " \n",
    "You may hear people say that poor calibration leads to large errors in EXAFS results or even leads to \"the wrong results\".  You should know that when people describe scientific measurements and analysis as \"Wrong\", they are almost certainly wrong. Measurements have precision and accuracy, and science always allows for improvements in measurement and analysis.  \n",
    "\n",
    "Here, we'll look at these effects. From this, we will conclude that claims that poor calibration leads to large errors in EXAFS results are not accurate."
   ]
  },
  {
   "cell_type": "code",
   "execution_count": 1,
   "id": "7c518804",
   "metadata": {},
   "outputs": [],
   "source": [
    "# We start with some imports of Python functions we will need to read, \n",
    "# modify, and fit xafs data:\n",
    "\n",
    "import time, os, requests\n",
    "import numpy as np\n",
    "import scipy.constants as consts\n",
    "\n",
    "from larch.io import read_ascii\n",
    "from larch import Group\n",
    "from larch.fitting import param_group, param, guess\n",
    "from larch.xafs import (autobk, feffpath, feffit_transform,\n",
    "                        feffit_dataset, feffit, feffit_report)\n",
    "from larch.plot.plotly_xafsplots import plot, multi_plot\n",
    "\n",
    "PLANCK_HC = 1.e10 * consts.Planck * consts.c / consts.e\n",
    "RAD2DEG = 180.0/np.pi\n",
    "DEG2RAD = np.pi/180.0"
   ]
  },
  {
   "cell_type": "code",
   "execution_count": 2,
   "id": "9905f684",
   "metadata": {},
   "outputs": [
    {
     "name": "stdout",
     "output_type": "stream",
     "text": [
      "Got data files:  ../xafsdata/cu_10k.xmu ../feffit/feff0001.dat\n"
     ]
    }
   ],
   "source": [
    "# then we will some XAFS data (Cu metal) at the Cu K edge, and a Feff.dat file\n",
    "# so we'll download these to the current directory\n",
    "cudata_file = '../xafsdata/cu_10k.xmu'\n",
    "feffdat_file = '../feffit/feff0001.dat'\n",
    "\n",
    "root_url = 'https://raw.githubusercontent.com/xraypy/xraylarch/master/examples'\n",
    "current_dir = os.getcwd()\n",
    "downloads = {}\n",
    "if not os.path.exists(cudata_file):\n",
    "    cudata_file = 'cu_10k.xmu'\n",
    "    downloads[cudata_file] = f'{root_url}/xafsdata/cu_10k.xmu'\n",
    "if not os.path.exists(feffdat_file):\n",
    "    feffdat_file = 'feff0001.dat'\n",
    "    downloads[feffdat_file] = f'{root_url}/feffit/feff0001.dat'\n",
    "\n",
    "for dest, source_url in downloads.items():\n",
    "    t0 = time.time()\n",
    "    req = requests.get(source_url, verify=True, timeout=1.0)\n",
    "    print(source_url, req)\n",
    "    if req.status_code == 200:\n",
    "        full_dest = os.path.join(current_dir, dest)\n",
    "        with open(full_dest, 'wb') as fh:\n",
    "            fh.write(req.content)\n",
    "        print(f'Downloaded {full_dest}: {time.time()-t0:.3f} sec')\n",
    "        time.sleep(0.25)\n",
    "time.sleep(0.1)\n",
    "print(\"Got data files: \", cudata_file, feffdat_file)"
   ]
  },
  {
   "cell_type": "code",
   "execution_count": 5,
   "id": "2aedfd2a",
   "metadata": {},
   "outputs": [
    {
     "name": "stdout",
     "output_type": "stream",
     "text": [
      "Using a d spacing 3.135253 Ang\n"
     ]
    },
    {
     "data": {
      "text/plain": [
       "<larch.plot.plotly_xafsplots.PlotlyFigure at 0x182478e10>"
      ]
     },
     "execution_count": 5,
     "metadata": {},
     "output_type": "execute_result"
    }
   ],
   "source": [
    "# now we will read that data file we just downloaded\n",
    "\n",
    "\n",
    "cudat = read_ascii(cudata_file, labels='energy, mu')\n",
    "\n",
    "# This data for Cu metal at the Cu K edge  measured \n",
    "# with a Si(111) monochromator.  It is a little cryptic, \n",
    "# but this data file set says that  hc_2d = 1977.260\n",
    "hc_2d = 1977.260\n",
    "# use the current value of HC to get the dspace they would have used\n",
    "dspace = PLANCK_HC / (2 * hc_2d)\n",
    "print(f'Using a d spacing {dspace:.6f} Ang')\n",
    "\n",
    "\n",
    "# now let's calculate the mono angles in degrees and plot that\n",
    "cudat.theta = RAD2DEG * np.arcsin(PLANCK_HC / (2.0*dspace*cudat.energy))\n",
    "\n",
    "\n",
    "aplot = plot(cudat.energy, cudat.theta, xlabel='Energy (eV)', ylabel=r\"$\\theta$\", \n",
    "         color='red', title='Si(111) at Cu K edge', label='angle', linewidth=2)\n",
    "\n",
    "aplot.show()\n"
   ]
  },
  {
   "cell_type": "markdown",
   "id": "a363cf36",
   "metadata": {
    "editable": true,
    "slideshow": {
     "slide_type": ""
    },
    "tags": []
   },
   "source": [
    "note from the plot above that the angle is around 10 to 12 degrees, and that Energy and Angle are not perfectly linear."
   ]
  },
  {
   "cell_type": "code",
   "execution_count": 6,
   "id": "e97bd9f5",
   "metadata": {},
   "outputs": [
    {
     "name": "stdout",
     "output_type": "stream",
     "text": [
      "E0 = 8977.580 eV\n"
     ]
    },
    {
     "data": {
      "text/plain": [
       "<larch.plot.plotly_xafsplots.PlotlyFigure at 0x18fa6c910>"
      ]
     },
     "execution_count": 6,
     "metadata": {},
     "output_type": "execute_result"
    }
   ],
   "source": [
    "# let's plot the normalized XAFS data around the edge:\n",
    "\n",
    "autobk(cudat.energy, cudat.mu, group=cudat, rbkg=1.0, kw=2)\n",
    "print(f'E0 = {cudat.e0:.3f} eV')\n",
    "plot(cudat.energy, cudat.norm, xmin=8900, xmax=9500, label='norm',\n",
    "     xlabel='Energy (eV)', ylabel='$\\mu(E)$')\n",
    " "
   ]
  },
  {
   "cell_type": "code",
   "execution_count": 7,
   "id": "b8f6a375",
   "metadata": {},
   "outputs": [
    {
     "name": "stdout",
     "output_type": "stream",
     "text": [
      "Result:  E0 = 8977.580 eV, R= 2.5494 +/- 0.0017 Ang\n",
      "=================== FEFFIT RESULTS ====================\n",
      "[[Statistics]]\n",
      "  n_function_calls     = 31\n",
      "  n_variables          = 4\n",
      "  n_data_points        = 104\n",
      "  n_independent        = 13.7323954\n",
      "  chi_square           = 80.5021987\n",
      "  reduced chi_square   = 8.27157087\n",
      "  r-factor             = 0.00122781\n",
      "  Akaike info crit     = 32.2861097\n",
      "  Bayesian info crit   = 34.7651404\n",
      " \n",
      "[[Parameters]]\n",
      "  amp                  =  0.9216005 +/- 0.0271218  (init= 1.0000000)\n",
      "  del_e0               =  5.6772818 +/- 0.3759213  (init= 0.0000000)\n",
      "  del_r                =  0.0015526 +/- 0.0016816  (init= 0.0000000)\n",
      "  sig2                 =  0.0035496 +/- 1.8541e-4  (init= 0.0000000)\n",
      " \n",
      "[[Correlations]] (unreported correlations are <  0.100)\n",
      "  amp, sig2            =  0.924\n",
      "  del_e0, del_r        =  0.914\n",
      "  del_r, sig2          =  0.135\n",
      "  amp, del_r           =  0.131\n",
      " \n",
      "[[Dataset]]\n",
      "  unique_id            = 'damwhg4w'\n",
      "  fit space            = 'r'\n",
      "  r-range              = 1.400, 3.000\n",
      "  k-range              = 2.500, 15.000\n",
      "  k window, dk         = 'kaiser', 4.000\n",
      "  paths used in fit    = ['../feffit/feff0001.dat']\n",
      "  k-weight             = 2\n",
      "  epsilon_k            = Array(mean=0.0013512, std=9.2093e-4)\n",
      "  epsilon_r            = 0.0332140\n",
      "  n_independent        = 13.732\n",
      " \n",
      "[[Paths]]\n",
      " = Path 'pbczubvah' Cu K Edge\n",
      "    feffdat file = ../feffit/feff0001.dat, from feff run 'feffit'\n",
      "    geometry  atom      x        y        z      ipot\n",
      "              Cu       0.00000,  0.00000,  0.00000  0 (absorber)\n",
      "              Cu       0.00000, -1.80160,  1.80160  1\n",
      "     reff   =  2.5478000\n",
      "     degen  =  12.000000\n",
      "     n*s02  =  0.9216005 +/- 0.0271218  := 'amp'\n",
      "     e0     =  5.6772818 +/- 0.3759213  := 'del_e0'\n",
      "     r      =  2.5493526 +/- 0.0016816  := 'reff + del_r'\n",
      "     deltar =  0.0015526 +/- 0.0016816  := 'del_r'\n",
      "     sigma2 =  0.0035496 +/- 1.8541e-4  := 'sig2'\n",
      "\n",
      "=======================================================\n"
     ]
    }
   ],
   "source": [
    "# let's now write a function to do a first shell fit to the \n",
    "# XAFS data from a dataset (Group)\n",
    "def fit_cu_1stshell(dat, full_report=False, with_plot=False):\n",
    "   \n",
    "    # extract the EXAFS chi(k)\n",
    "    autobk(dat.energy, dat.mu, group=dat, rbkg=1.0, kw=2)\n",
    "\n",
    "    # define fitting parameter group\n",
    "    pars = param_group(amp    = param(1.0, vary=True),\n",
    "                       del_e0 = param(0.0, vary=True),\n",
    "                       sig2   = param(0.0, vary=True),\n",
    "                       del_r  = guess(0.0, vary=True) )\n",
    "\n",
    "    # define a Feff Path, give expressions for Path Parameters\n",
    "    path1 = feffpath(feffdat_file,\n",
    "                     s02    = 'amp',\n",
    "                     e0     = 'del_e0',\n",
    "                     sigma2 = 'sig2',\n",
    "                     deltar = 'del_r')\n",
    "\n",
    "    # do the fit\n",
    "    trans = feffit_transform(kmin=2.5, kmax=15, kw=2, dk=4, window='kaiser',\n",
    "                            rmin=1.4, rmax=3.0)\n",
    "    dset = feffit_dataset(data=dat, pathlist=[path1], transform=trans)\n",
    "    out = feffit(pars, dset)\n",
    "    \n",
    "    r1_fit = out.params['del_r'].value + path1.reff\n",
    "    r1_err = out.params['del_r'].stderr\n",
    "    print(f'Result:  E0 = {dat.e0:.3f} eV, R= {r1_fit:.4f} +/- {r1_err:.4f} Ang')\n",
    "    if full_report:\n",
    "        print(feffit_report(out))\n",
    "    if with_plot:\n",
    "        multi_plot([dict(xdata=dset.data.r, ydata=dset.data.chir_mag, label='data',\n",
    "                           xlabel='R (Ang)', ylabel='$|\\chi(R)|$'),\n",
    "                    dict(xdata=dset.model.r, ydata=dset.model.chir_mag, label='fit')])\n",
    "    return out\n",
    "    \n",
    "out = fit_cu_1stshell(cudat, full_report=True, with_plot=True)\n",
    "   "
   ]
  },
  {
   "cell_type": "code",
   "execution_count": 8,
   "id": "fa9fd5d2",
   "metadata": {},
   "outputs": [
    {
     "name": "stdout",
     "output_type": "stream",
     "text": [
      "theta_off=0.0200, dspace_off=0.0000: E0= 8977.580 to 8991.481\n"
     ]
    }
   ],
   "source": [
    "# OK, so we found E0=8977 eV, and can do a fit with this dataset and get \n",
    "# R = 2.5494(0017) Ang.\n",
    "\n",
    "# If we take the angles for this energy array and change the offset, \n",
    "# what do we get? \n",
    "\n",
    "# we define two functions to shift X-ray energy either by changing the \n",
    "# angular offset or the  d-spacing of the monochromator\n",
    "\n",
    "def energy_shift(energy, dspace, theta_off=0, dspace_off=0):\n",
    "    theta = RAD2DEG * np.arcsin(PLANCK_HC / (2.0*dspace*energy))\n",
    "    return PLANCK_HC/(2*(dspace-dspace_off)*np.sin(DEG2RAD*(theta-theta_off)))\n",
    "\n",
    "def change_calib(dgroup, dspace, theta_off=0, dspace_off=0):\n",
    "    \"make a new data group with an offset in theta and/or dspacing\"\n",
    "    enew  = energy_shift(dgroup.energy, dspace, theta_off=theta_off, \n",
    "                         dspace_off=dspace_off)\n",
    "\n",
    "    dat = Group(energy=enew, mu=dgroup.mu*1.0)\n",
    "    autobk(dat.energy, dat.mu, group=dat, rbkg=1.0, kw=2)\n",
    "    print(f'theta_off={theta_off:.4f}, dspace_off={dspace_off:.4f}: E0= {dgroup.e0:.3f} to {dat.e0:.3f}')\n",
    "    return dat\n",
    "\n",
    "# and let's see how big a shift of 0.02 degrees is\n",
    "# For reference, 0.02 degrees ~= 350 microradians, \n",
    "# which is about 10x bigger than the Darwin width for Si(111).\n",
    "new_dat = change_calib(cudat, dspace, theta_off=0.02)"
   ]
  },
  {
   "cell_type": "code",
   "execution_count": 9,
   "id": "9c7a99c3",
   "metadata": {},
   "outputs": [
    {
     "data": {
      "text/plain": [
       "<larch.plot.plotly_xafsplots.PlotlyFigure at 0x18fa56c40>"
      ]
     },
     "execution_count": 9,
     "metadata": {},
     "output_type": "execute_result"
    }
   ],
   "source": [
    "# That is, an angular error of 0.02 degrees gives an energy shift of 14 eV.\n",
    "# Let's plot those XANES spectra together\n",
    "\n",
    "multi_plot([dict(xdata=cudat.energy, ydata=cudat.norm, label='E0=8977.6'),\n",
    "            dict(xdata=new_dat.energy, ydata=new_dat.norm, label='E0=8991.5',\n",
    "                 xmin=8950, xmax=9100, xlabel='Energy (eV)', ylabel='$\\mu(E)$')])\n",
    "\n",
    "# that is a very big energy shift for XANES work."
   ]
  },
  {
   "cell_type": "code",
   "execution_count": 10,
   "id": "638b0a19",
   "metadata": {},
   "outputs": [
    {
     "name": "stdout",
     "output_type": "stream",
     "text": [
      "Result:  E0 = 8991.481 eV, R= 2.5455 +/- 0.0017 Ang\n"
     ]
    }
   ],
   "source": [
    "# and now we can fit that shifted data:\n",
    "\n",
    "out = fit_cu_1stshell(new_dat, full_report=False, with_plot=False)\n",
    "   \n",
    "# and we see that the 1st shell R changed from R= 2.5494 to 2.5455 (+/- 0.0017 Ang).\n",
    "# a shift in R of 0.004 Ang. \n",
    "#\n",
    "# Yes, that shift is outside of the error bars for this very good dataset.  \n",
    "# Typical uncertainties and expected accuracies of EXAFS results are 0.01 Ang. "
   ]
  },
  {
   "cell_type": "code",
   "execution_count": 11,
   "id": "6e00298d",
   "metadata": {},
   "outputs": [
    {
     "name": "stdout",
     "output_type": "stream",
     "text": [
      "3000.0 -> 3001.2 eV\n",
      "5000.0 -> 5004.1 eV\n",
      "7000.0 -> 7008.3 eV\n",
      "9000.0 -> 9014.0 eV\n",
      "11000.0 -> 11021.1 eV\n",
      "20000.0 -> 20070.5 eV\n"
     ]
    }
   ],
   "source": [
    "# If we had an angular offset that big, how would we know?\n",
    "\n",
    "# We would change the monochromator energy to another edge.  \n",
    "# Let's run our `energy_shift` function with different energies:\n",
    "\n",
    "etest = np.array([3000, 5000, 7000, 9000, 11000, 20000])\n",
    "enew = energy_shift(etest, dspace, theta_off=0.02)\n",
    "for e_in, e_out in zip(etest, enew):\n",
    "    print(f'{e_in:.1f} -> {e_out:.1f} eV')\n",
    "    "
   ]
  },
  {
   "cell_type": "code",
   "execution_count": 12,
   "id": "aa39c4f4",
   "metadata": {},
   "outputs": [
    {
     "name": "stdout",
     "output_type": "stream",
     "text": [
      "3000.0 -> 3009.6 eV\n",
      "5000.0 -> 5016.0 eV\n",
      "7000.0 -> 7022.4 eV\n",
      "9000.0 -> 9028.8 eV\n",
      "11000.0 -> 11035.2 eV\n",
      "20000.0 -> 20064.0 eV\n"
     ]
    }
   ],
   "source": [
    "# if we thought a shift of 14 eV at Cu K was big (it is!), then a shift \n",
    "# of 70 eV at Mo K edge is enormous.\n",
    "# For completeness, what if we had a bad value for $d$?\n",
    "enew = energy_shift(etest, dspace, dspace_off=0.01)\n",
    "for e_in, e_out in zip(etest, enew):\n",
    "    print(f'{e_in:.1f} -> {e_out:.1f} eV')"
   ]
  },
  {
   "cell_type": "code",
   "execution_count": 13,
   "id": "2f1fc8b8",
   "metadata": {},
   "outputs": [
    {
     "name": "stdout",
     "output_type": "stream",
     "text": [
      "theta_off=0.0000, dspace_off=0.0000: E0= 8977.580 to 8977.580\n",
      "Result:  E0 = 8977.580 eV, R= 2.5494 +/- 0.0017 Ang\n",
      "theta_off=0.0010, dspace_off=0.0000: E0= 8977.580 to 8978.274\n",
      "Result:  E0 = 8978.274 eV, R= 2.5492 +/- 0.0017 Ang\n",
      "theta_off=0.0020, dspace_off=0.0000: E0= 8977.580 to 8978.968\n",
      "Result:  E0 = 8978.968 eV, R= 2.5490 +/- 0.0017 Ang\n",
      "theta_off=0.0050, dspace_off=0.0000: E0= 8977.580 to 8981.051\n",
      "Result:  E0 = 8981.051 eV, R= 2.5484 +/- 0.0017 Ang\n",
      "theta_off=0.0100, dspace_off=0.0000: E0= 8977.580 to 8984.525\n",
      "Result:  E0 = 8984.525 eV, R= 2.5474 +/- 0.0017 Ang\n",
      "theta_off=0.0200, dspace_off=0.0000: E0= 8977.580 to 8991.481\n",
      "Result:  E0 = 8991.481 eV, R= 2.5455 +/- 0.0017 Ang\n",
      "theta_off=0.0300, dspace_off=0.0000: E0= 8977.580 to 8998.448\n",
      "Result:  E0 = 8998.448 eV, R= 2.5436 +/- 0.0017 Ang\n",
      "theta_off=0.0400, dspace_off=0.0000: E0= 8977.580 to 9005.427\n",
      "Result:  E0 = 9005.427 eV, R= 2.5417 +/- 0.0016 Ang\n",
      "theta_off=0.0500, dspace_off=0.0000: E0= 8977.580 to 9012.416\n",
      "Result:  E0 = 9012.416 eV, R= 2.5397 +/- 0.0016 Ang\n",
      "theta_off=0.0600, dspace_off=0.0000: E0= 8977.580 to 9019.417\n",
      "Result:  E0 = 9019.417 eV, R= 2.5378 +/- 0.0016 Ang\n",
      "theta_off=0.0700, dspace_off=0.0000: E0= 8977.580 to 9026.428\n",
      "Result:  E0 = 9026.428 eV, R= 2.5359 +/- 0.0016 Ang\n",
      "theta_off=0.0800, dspace_off=0.0000: E0= 8977.580 to 9033.451\n",
      "Result:  E0 = 9033.451 eV, R= 2.5340 +/- 0.0016 Ang\n",
      "theta_off=0.0900, dspace_off=0.0000: E0= 8977.580 to 9040.485\n",
      "Result:  E0 = 9040.485 eV, R= 2.5320 +/- 0.0016 Ang\n",
      "theta_off=0.1000, dspace_off=0.0000: E0= 8977.580 to 9047.531\n",
      "Result:  E0 = 9047.531 eV, R= 2.5301 +/- 0.0016 Ang\n"
     ]
    }
   ],
   "source": [
    "# We can see that an error in angular offset is more pronounced at high energy, \n",
    "# or lower angle. On the other hand, a bad value for d-spacing gives a slightly less \n",
    "# energy-dependent error (less of a \"chromatic aberration\").  \n",
    "#\n",
    "# When calibrating a monochromator, it is important to use a wide range of \n",
    "# energies to set the d-spacing and angular offset.\n",
    "\n",
    "# But: how far off do you have to be to see real errors in EXAFS results?\n",
    "\n",
    "e0val = []\n",
    "delr1 = []\n",
    "\n",
    "for theta_off in (0.000, 0.001, 0.002, 0.005, 0.010, 0.020, 0.03, \n",
    "                  0.04, 0.050, 0.06, 0.07, 0.08, 0.09, 0.10):\n",
    "    new_dat = change_calib(cudat, dspace, theta_off=theta_off)\n",
    "\n",
    "    out = fit_cu_1stshell(new_dat, full_report=False, with_plot=False)\n",
    "    \n",
    "    e0val.append(new_dat.e0-cudat.e0) \n",
    "    delr1.append(out.params['del_r'].value -0.00155)\n",
    "   \n",
    "f = plot(e0val, delr1, marker='o', linewidth=0.0002, xlabel='E0 (eV)', ylabel='$\\Delta R1$ (Ang)', label='deltaR')"
   ]
  },
  {
   "cell_type": "code",
   "execution_count": 14,
   "id": "1353430a",
   "metadata": {},
   "outputs": [],
   "source": [
    "# To get an error in R of 0.01 Ang, E0 needs to shift by about 35 eV at the Cu K edge.   \n",
    "# That is more than double the one shown in the Cu XANES plot above.  That is an \n",
    "# absurdly large energy shift.  \n",
    "\n",
    "# If you are expecting to get absolute measures that are accurate to 0.005 Ang,\n",
    "# then making sure your energy calibration is good to 10 eV is important.  \n",
    "# Claiming such absolute accuracies is rare in the EXAFS literature, and do \n",
    "# require a very careful analysis.\n",
    "\n",
    "# Energy errors or drifts of 5 eV in the 5 to 15 keV range will cause significant \n",
    "# problems for XANES work and would need to be addressed.  XANES Analysis is the \n",
    "# reason to work toward good energy calibration and reliability.\n",
    "#\n",
    "# Errors of 5 eV in the 5 to 15keV range will not impact EXAFS results at all. \n",
    "#\n",
    "# If someone tells you otherwise, point them to this notebook.\n"
   ]
  },
  {
   "cell_type": "code",
   "execution_count": null,
   "id": "5a51ce1f-3b84-4b4f-9490-be5028ddbb35",
   "metadata": {},
   "outputs": [],
   "source": []
  },
  {
   "cell_type": "code",
   "execution_count": null,
   "id": "f14b864b-1a51-4497-89d1-646bb141db10",
   "metadata": {},
   "outputs": [],
   "source": []
  },
  {
   "cell_type": "code",
   "execution_count": null,
   "id": "e31e1315-e9ae-4dd0-b3bd-7bf1dcd170a1",
   "metadata": {},
   "outputs": [],
   "source": []
  }
 ],
 "metadata": {
  "kernelspec": {
   "display_name": "Python 3 (ipykernel)",
   "language": "python",
   "name": "python3"
  },
  "language_info": {
   "codemirror_mode": {
    "name": "ipython",
    "version": 3
   },
   "file_extension": ".py",
   "mimetype": "text/x-python",
   "name": "python",
   "nbconvert_exporter": "python",
   "pygments_lexer": "ipython3",
   "version": "3.13.3"
  }
 },
 "nbformat": 4,
 "nbformat_minor": 5
}
